{
 "cells": [
  {
   "cell_type": "markdown",
   "metadata": {},
   "source": [
    "# Importing libraries and Data Loading"
   ]
  },
  {
   "cell_type": "code",
   "execution_count": 1,
   "metadata": {},
   "outputs": [],
   "source": [
    "%matplotlib inline\n",
    "import warnings\n",
    "warnings.filterwarnings(\"ignore\")\n",
    "\n",
    "import sqlite3\n",
    "import pandas as pd\n",
    "import numpy as np\n",
    "import nltk\n",
    "import string\n",
    "import matplotlib.pyplot as plt\n",
    "import seaborn as sns\n",
    "from sklearn.feature_extraction.text import TfidfTransformer\n",
    "from sklearn.feature_extraction.text import TfidfVectorizer\n",
    "\n",
    "from sklearn.feature_extraction.text import CountVectorizer\n",
    "from sklearn.metrics import confusion_matrix\n",
    "from sklearn import metrics\n",
    "from sklearn.metrics import roc_curve, auc\n",
    "from nltk.stem.porter import PorterStemmer\n",
    "\n",
    "import re\n",
    "# Tutorial about Python regular expressions: https://pymotw.com/2/re/\n",
    "import string\n",
    "from nltk.corpus import stopwords\n",
    "from nltk.stem import PorterStemmer\n",
    "from nltk.stem.wordnet import WordNetLemmatizer\n",
    "\n",
    "from gensim.models import Word2Vec\n",
    "from gensim.models import KeyedVectors\n",
    "import pickle\n",
    "\n",
    "from tqdm import tqdm\n",
    "import os\n",
    "\n",
    "from collections import Counter\n",
    "pd.set_option('display.max_rows', None)\n",
    "pd.set_option('display.max_columns', None)\n",
    "pd.set_option('display.float_format', lambda x: '%.5f' % x)\n",
    "import nltk\n",
    "from nltk.corpus import stopwords\n",
    "import re"
   ]
  },
  {
   "cell_type": "code",
   "execution_count": 2,
   "metadata": {},
   "outputs": [],
   "source": [
    "project_data = pd.read_csv(\"D:/DOWNLOADS/train_data.csv\")\n",
    "resource_data = pd.read_csv('D:/DOWNLOADS/resources.csv')"
   ]
  },
  {
   "cell_type": "code",
   "execution_count": 3,
   "metadata": {},
   "outputs": [
    {
     "name": "stdout",
     "output_type": "stream",
     "text": [
      "<class 'pandas.core.frame.DataFrame'>\n",
      "RangeIndex: 109248 entries, 0 to 109247\n",
      "Data columns (total 17 columns):\n",
      " #   Column                                        Non-Null Count   Dtype \n",
      "---  ------                                        --------------   ----- \n",
      " 0   Unnamed: 0                                    109248 non-null  int64 \n",
      " 1   id                                            109248 non-null  object\n",
      " 2   teacher_id                                    109248 non-null  object\n",
      " 3   teacher_prefix                                109245 non-null  object\n",
      " 4   school_state                                  109248 non-null  object\n",
      " 5   project_submitted_datetime                    109248 non-null  object\n",
      " 6   project_grade_category                        109248 non-null  object\n",
      " 7   project_subject_categories                    109248 non-null  object\n",
      " 8   project_subject_subcategories                 109248 non-null  object\n",
      " 9   project_title                                 109248 non-null  object\n",
      " 10  project_essay_1                               109248 non-null  object\n",
      " 11  project_essay_2                               109248 non-null  object\n",
      " 12  project_essay_3                               3758 non-null    object\n",
      " 13  project_essay_4                               3758 non-null    object\n",
      " 14  project_resource_summary                      109248 non-null  object\n",
      " 15  teacher_number_of_previously_posted_projects  109248 non-null  int64 \n",
      " 16  project_is_approved                           109248 non-null  int64 \n",
      "dtypes: int64(3), object(14)\n",
      "memory usage: 14.2+ MB\n"
     ]
    }
   ],
   "source": [
    "project_data.info()"
   ]
  },
  {
   "cell_type": "code",
   "execution_count": 4,
   "metadata": {},
   "outputs": [
    {
     "data": {
      "text/html": [
       "<div>\n",
       "<style scoped>\n",
       "    .dataframe tbody tr th:only-of-type {\n",
       "        vertical-align: middle;\n",
       "    }\n",
       "\n",
       "    .dataframe tbody tr th {\n",
       "        vertical-align: top;\n",
       "    }\n",
       "\n",
       "    .dataframe thead th {\n",
       "        text-align: right;\n",
       "    }\n",
       "</style>\n",
       "<table border=\"1\" class=\"dataframe\">\n",
       "  <thead>\n",
       "    <tr style=\"text-align: right;\">\n",
       "      <th></th>\n",
       "      <th>Unnamed: 0</th>\n",
       "      <th>id</th>\n",
       "      <th>teacher_id</th>\n",
       "      <th>teacher_prefix</th>\n",
       "      <th>school_state</th>\n",
       "      <th>project_submitted_datetime</th>\n",
       "      <th>project_grade_category</th>\n",
       "      <th>project_subject_categories</th>\n",
       "      <th>project_subject_subcategories</th>\n",
       "      <th>project_title</th>\n",
       "      <th>project_essay_1</th>\n",
       "      <th>project_essay_2</th>\n",
       "      <th>project_essay_3</th>\n",
       "      <th>project_essay_4</th>\n",
       "      <th>project_resource_summary</th>\n",
       "      <th>teacher_number_of_previously_posted_projects</th>\n",
       "      <th>project_is_approved</th>\n",
       "    </tr>\n",
       "  </thead>\n",
       "  <tbody>\n",
       "    <tr>\n",
       "      <th>0</th>\n",
       "      <td>160221</td>\n",
       "      <td>p253737</td>\n",
       "      <td>c90749f5d961ff158d4b4d1e7dc665fc</td>\n",
       "      <td>Mrs.</td>\n",
       "      <td>IN</td>\n",
       "      <td>12/5/2016 13:43</td>\n",
       "      <td>Grades PreK-2</td>\n",
       "      <td>Literacy &amp; Language</td>\n",
       "      <td>ESL, Literacy</td>\n",
       "      <td>Educational Support for English Learners at Home</td>\n",
       "      <td>My students are English learners that are work...</td>\n",
       "      <td>\\\"The limits of your language are the limits o...</td>\n",
       "      <td>NaN</td>\n",
       "      <td>NaN</td>\n",
       "      <td>My students need opportunities to practice beg...</td>\n",
       "      <td>0</td>\n",
       "      <td>0</td>\n",
       "    </tr>\n",
       "    <tr>\n",
       "      <th>1</th>\n",
       "      <td>140945</td>\n",
       "      <td>p258326</td>\n",
       "      <td>897464ce9ddc600bced1151f324dd63a</td>\n",
       "      <td>Mr.</td>\n",
       "      <td>FL</td>\n",
       "      <td>10/25/2016 9:22</td>\n",
       "      <td>Grades 6-8</td>\n",
       "      <td>History &amp; Civics, Health &amp; Sports</td>\n",
       "      <td>Civics &amp; Government, Team Sports</td>\n",
       "      <td>Wanted: Projector for Hungry Learners</td>\n",
       "      <td>Our students arrive to our school eager to lea...</td>\n",
       "      <td>The projector we need for our school is very c...</td>\n",
       "      <td>NaN</td>\n",
       "      <td>NaN</td>\n",
       "      <td>My students need a projector to help with view...</td>\n",
       "      <td>7</td>\n",
       "      <td>1</td>\n",
       "    </tr>\n",
       "    <tr>\n",
       "      <th>2</th>\n",
       "      <td>21895</td>\n",
       "      <td>p182444</td>\n",
       "      <td>3465aaf82da834c0582ebd0ef8040ca0</td>\n",
       "      <td>Ms.</td>\n",
       "      <td>AZ</td>\n",
       "      <td>8/31/2016 12:03</td>\n",
       "      <td>Grades 6-8</td>\n",
       "      <td>Health &amp; Sports</td>\n",
       "      <td>Health &amp; Wellness, Team Sports</td>\n",
       "      <td>Soccer Equipment for AWESOME Middle School Stu...</td>\n",
       "      <td>\\r\\n\\\"True champions aren't always the ones th...</td>\n",
       "      <td>The students on the campus come to school know...</td>\n",
       "      <td>NaN</td>\n",
       "      <td>NaN</td>\n",
       "      <td>My students need shine guards, athletic socks,...</td>\n",
       "      <td>1</td>\n",
       "      <td>0</td>\n",
       "    </tr>\n",
       "    <tr>\n",
       "      <th>3</th>\n",
       "      <td>45</td>\n",
       "      <td>p246581</td>\n",
       "      <td>f3cb9bffbba169bef1a77b243e620b60</td>\n",
       "      <td>Mrs.</td>\n",
       "      <td>KY</td>\n",
       "      <td>10/6/2016 21:16</td>\n",
       "      <td>Grades PreK-2</td>\n",
       "      <td>Literacy &amp; Language, Math &amp; Science</td>\n",
       "      <td>Literacy, Mathematics</td>\n",
       "      <td>Techie Kindergarteners</td>\n",
       "      <td>I work at a unique school filled with both ESL...</td>\n",
       "      <td>My students live in high poverty conditions wi...</td>\n",
       "      <td>NaN</td>\n",
       "      <td>NaN</td>\n",
       "      <td>My students need to engage in Reading and Math...</td>\n",
       "      <td>4</td>\n",
       "      <td>1</td>\n",
       "    </tr>\n",
       "    <tr>\n",
       "      <th>4</th>\n",
       "      <td>172407</td>\n",
       "      <td>p104768</td>\n",
       "      <td>be1f7507a41f8479dc06f047086a39ec</td>\n",
       "      <td>Mrs.</td>\n",
       "      <td>TX</td>\n",
       "      <td>7/11/2016 1:10</td>\n",
       "      <td>Grades PreK-2</td>\n",
       "      <td>Math &amp; Science</td>\n",
       "      <td>Mathematics</td>\n",
       "      <td>Interactive Math Tools</td>\n",
       "      <td>Our second grade classroom next year will be m...</td>\n",
       "      <td>For many students, math is a subject that does...</td>\n",
       "      <td>NaN</td>\n",
       "      <td>NaN</td>\n",
       "      <td>My students need hands on practice in mathemat...</td>\n",
       "      <td>1</td>\n",
       "      <td>1</td>\n",
       "    </tr>\n",
       "  </tbody>\n",
       "</table>\n",
       "</div>"
      ],
      "text/plain": [
       "   Unnamed: 0       id                        teacher_id teacher_prefix  \\\n",
       "0      160221  p253737  c90749f5d961ff158d4b4d1e7dc665fc           Mrs.   \n",
       "1      140945  p258326  897464ce9ddc600bced1151f324dd63a            Mr.   \n",
       "2       21895  p182444  3465aaf82da834c0582ebd0ef8040ca0            Ms.   \n",
       "3          45  p246581  f3cb9bffbba169bef1a77b243e620b60           Mrs.   \n",
       "4      172407  p104768  be1f7507a41f8479dc06f047086a39ec           Mrs.   \n",
       "\n",
       "  school_state project_submitted_datetime project_grade_category  \\\n",
       "0           IN            12/5/2016 13:43          Grades PreK-2   \n",
       "1           FL            10/25/2016 9:22             Grades 6-8   \n",
       "2           AZ            8/31/2016 12:03             Grades 6-8   \n",
       "3           KY            10/6/2016 21:16          Grades PreK-2   \n",
       "4           TX             7/11/2016 1:10          Grades PreK-2   \n",
       "\n",
       "            project_subject_categories     project_subject_subcategories  \\\n",
       "0                  Literacy & Language                     ESL, Literacy   \n",
       "1    History & Civics, Health & Sports  Civics & Government, Team Sports   \n",
       "2                      Health & Sports    Health & Wellness, Team Sports   \n",
       "3  Literacy & Language, Math & Science             Literacy, Mathematics   \n",
       "4                       Math & Science                       Mathematics   \n",
       "\n",
       "                                       project_title  \\\n",
       "0   Educational Support for English Learners at Home   \n",
       "1              Wanted: Projector for Hungry Learners   \n",
       "2  Soccer Equipment for AWESOME Middle School Stu...   \n",
       "3                             Techie Kindergarteners   \n",
       "4                             Interactive Math Tools   \n",
       "\n",
       "                                     project_essay_1  \\\n",
       "0  My students are English learners that are work...   \n",
       "1  Our students arrive to our school eager to lea...   \n",
       "2  \\r\\n\\\"True champions aren't always the ones th...   \n",
       "3  I work at a unique school filled with both ESL...   \n",
       "4  Our second grade classroom next year will be m...   \n",
       "\n",
       "                                     project_essay_2 project_essay_3  \\\n",
       "0  \\\"The limits of your language are the limits o...             NaN   \n",
       "1  The projector we need for our school is very c...             NaN   \n",
       "2  The students on the campus come to school know...             NaN   \n",
       "3  My students live in high poverty conditions wi...             NaN   \n",
       "4  For many students, math is a subject that does...             NaN   \n",
       "\n",
       "  project_essay_4                           project_resource_summary  \\\n",
       "0             NaN  My students need opportunities to practice beg...   \n",
       "1             NaN  My students need a projector to help with view...   \n",
       "2             NaN  My students need shine guards, athletic socks,...   \n",
       "3             NaN  My students need to engage in Reading and Math...   \n",
       "4             NaN  My students need hands on practice in mathemat...   \n",
       "\n",
       "   teacher_number_of_previously_posted_projects  project_is_approved  \n",
       "0                                             0                    0  \n",
       "1                                             7                    1  \n",
       "2                                             1                    0  \n",
       "3                                             4                    1  \n",
       "4                                             1                    1  "
      ]
     },
     "execution_count": 4,
     "metadata": {},
     "output_type": "execute_result"
    }
   ],
   "source": [
    "project_data.head(5)"
   ]
  },
  {
   "cell_type": "markdown",
   "metadata": {},
   "source": [
    "# Cleaning"
   ]
  },
  {
   "cell_type": "markdown",
   "metadata": {},
   "source": [
    "# project_submitted_datetime"
   ]
  },
  {
   "cell_type": "code",
   "execution_count": 5,
   "metadata": {},
   "outputs": [],
   "source": [
    "# Convert to datetime\n",
    "project_data['project_submitted_datetime'] = pd.to_datetime(project_data['project_submitted_datetime'])\n",
    "\n",
    "# Get the index of the column 'project_submitted_datetime'\n",
    "column_index = project_data.columns.get_loc('project_submitted_datetime')\n",
    "\n",
    "# Split components and insert them\n",
    "project_data.insert(column_index, 'year', project_data['project_submitted_datetime'].dt.year)\n",
    "project_data.insert(column_index + 1, 'month', project_data['project_submitted_datetime'].dt.month)\n",
    "project_data.insert(column_index + 2, 'day', project_data['project_submitted_datetime'].dt.day)\n",
    "\n",
    "# Drop the 'project_submitted_datetime' column\n",
    "project_data = project_data.drop(columns=['project_submitted_datetime'])\n"
   ]
  },
  {
   "cell_type": "markdown",
   "metadata": {},
   "source": [
    "# project_grade_category"
   ]
  },
  {
   "cell_type": "code",
   "execution_count": 6,
   "metadata": {},
   "outputs": [],
   "source": [
    "project_grade_category = []\n",
    "\n",
    "for i in range(len(project_data)):\n",
    "    a = project_data[\"project_grade_category\"][i].replace(\" \", \"_\")\n",
    "    project_grade_category.append(a)\n",
    "\n",
    "project_data.drop(\"project_grade_category\", axis=1, inplace=True)\n",
    "project_data['project_grade_category']=project_grade_category"
   ]
  },
  {
   "cell_type": "markdown",
   "metadata": {},
   "source": [
    "# project_subjects_category"
   ]
  },
  {
   "cell_type": "code",
   "execution_count": 7,
   "metadata": {},
   "outputs": [],
   "source": [
    "## remove special characters from list of strings python: https://stackoverflow.com/a/47301924/4084039\n",
    "\n",
    "#creating list in which elements are values of column 'project_subject_categories'\n",
    "catogories = list(project_data['project_subject_categories'].values)\n",
    "\n",
    "#preserving order of columns\n",
    "cols = ['clean_catogory' if x=='project_subject_categories' else x for x in list(project_data.columns)]\n",
    "\n",
    "#doing preprocessing of list categories(list of values of column 'project_subject_categories' )\n",
    "removetable = str.maketrans('&', '_', '@#%!*$')\n",
    "processed_list = [s.translate(removetable) for s in catogories]\n",
    "\n",
    "removetable = str.maketrans('', '', ' ')\n",
    "processed_list = [s.translate(removetable) for s in processed_list]\n",
    "    \n",
    "removetable = str.maketrans(',', ' ', '')\n",
    "processed_list = [s.translate(removetable) for s in processed_list]\n",
    "\n",
    "#removing column 'project_subject_categories'\n",
    "project_data.drop('project_subject_categories', axis=1,inplace = True)\n",
    "\n",
    "#adding column which is processed version of 'project_subject_categories', column by default added to the end of dataframe\n",
    "project_data['clean_catogory']= processed_list\n",
    "\n",
    "#re-ordering of columns\n",
    "project_data = project_data[cols]"
   ]
  },
  {
   "cell_type": "markdown",
   "metadata": {},
   "source": [
    "# project_subjects_subcategory"
   ]
  },
  {
   "cell_type": "code",
   "execution_count": 8,
   "metadata": {},
   "outputs": [],
   "source": [
    "## remove special characters from list of strings python: https://stackoverflow.com/a/47301924/4084039\n",
    "\n",
    "#creating list in which elements are values of column 'project_subject_subcategories'\n",
    "sub_catogories = list(project_data['project_subject_subcategories'].values)\n",
    "\n",
    "#preserving order of columns\n",
    "cols = ['clean_subcatogory' if x=='project_subject_subcategories' else x for x in list(project_data.columns)]\n",
    "\n",
    "#doing preprocessing of list categories(list of values of column 'project_subject_categories' )\n",
    "removetable = str.maketrans('&', '_', '@#%!*$')\n",
    "processed_list = [s.translate(removetable) for s in sub_catogories]\n",
    "\n",
    "removetable = str.maketrans('', '', ' ')\n",
    "processed_list = [s.translate(removetable) for s in processed_list]\n",
    "    \n",
    "removetable = str.maketrans(',', ' ', '')\n",
    "processed_list = [s.translate(removetable) for s in processed_list]\n",
    "\n",
    "#removing column 'project_subject_categories'\n",
    "project_data.drop('project_subject_subcategories', axis=1,inplace = True)\n",
    "\n",
    "#adding column which is processed version of 'project_subject_categories', column by default added to the end of dataframe\n",
    "project_data['clean_subcatogory']= processed_list\n",
    "\n",
    "#re-ordering of columns\n",
    "project_data = project_data[cols]"
   ]
  },
  {
   "cell_type": "code",
   "execution_count": 9,
   "metadata": {},
   "outputs": [
    {
     "data": {
      "text/html": [
       "<div>\n",
       "<style scoped>\n",
       "    .dataframe tbody tr th:only-of-type {\n",
       "        vertical-align: middle;\n",
       "    }\n",
       "\n",
       "    .dataframe tbody tr th {\n",
       "        vertical-align: top;\n",
       "    }\n",
       "\n",
       "    .dataframe thead th {\n",
       "        text-align: right;\n",
       "    }\n",
       "</style>\n",
       "<table border=\"1\" class=\"dataframe\">\n",
       "  <thead>\n",
       "    <tr style=\"text-align: right;\">\n",
       "      <th></th>\n",
       "      <th>Unnamed: 0</th>\n",
       "      <th>id</th>\n",
       "      <th>teacher_id</th>\n",
       "      <th>teacher_prefix</th>\n",
       "      <th>school_state</th>\n",
       "      <th>year</th>\n",
       "      <th>month</th>\n",
       "      <th>day</th>\n",
       "      <th>clean_catogory</th>\n",
       "      <th>clean_subcatogory</th>\n",
       "      <th>project_title</th>\n",
       "      <th>project_essay_1</th>\n",
       "      <th>project_essay_2</th>\n",
       "      <th>project_essay_3</th>\n",
       "      <th>project_essay_4</th>\n",
       "      <th>project_resource_summary</th>\n",
       "      <th>teacher_number_of_previously_posted_projects</th>\n",
       "      <th>project_is_approved</th>\n",
       "      <th>project_grade_category</th>\n",
       "    </tr>\n",
       "  </thead>\n",
       "  <tbody>\n",
       "    <tr>\n",
       "      <th>0</th>\n",
       "      <td>160221</td>\n",
       "      <td>p253737</td>\n",
       "      <td>c90749f5d961ff158d4b4d1e7dc665fc</td>\n",
       "      <td>Mrs.</td>\n",
       "      <td>IN</td>\n",
       "      <td>2016</td>\n",
       "      <td>12</td>\n",
       "      <td>5</td>\n",
       "      <td>Literacy_Language</td>\n",
       "      <td>ESL Literacy</td>\n",
       "      <td>Educational Support for English Learners at Home</td>\n",
       "      <td>My students are English learners that are work...</td>\n",
       "      <td>\\\"The limits of your language are the limits o...</td>\n",
       "      <td>NaN</td>\n",
       "      <td>NaN</td>\n",
       "      <td>My students need opportunities to practice beg...</td>\n",
       "      <td>0</td>\n",
       "      <td>0</td>\n",
       "      <td>Grades_PreK-2</td>\n",
       "    </tr>\n",
       "    <tr>\n",
       "      <th>1</th>\n",
       "      <td>140945</td>\n",
       "      <td>p258326</td>\n",
       "      <td>897464ce9ddc600bced1151f324dd63a</td>\n",
       "      <td>Mr.</td>\n",
       "      <td>FL</td>\n",
       "      <td>2016</td>\n",
       "      <td>10</td>\n",
       "      <td>25</td>\n",
       "      <td>History_Civics Health_Sports</td>\n",
       "      <td>Civics_Government TeamSports</td>\n",
       "      <td>Wanted: Projector for Hungry Learners</td>\n",
       "      <td>Our students arrive to our school eager to lea...</td>\n",
       "      <td>The projector we need for our school is very c...</td>\n",
       "      <td>NaN</td>\n",
       "      <td>NaN</td>\n",
       "      <td>My students need a projector to help with view...</td>\n",
       "      <td>7</td>\n",
       "      <td>1</td>\n",
       "      <td>Grades_6-8</td>\n",
       "    </tr>\n",
       "    <tr>\n",
       "      <th>2</th>\n",
       "      <td>21895</td>\n",
       "      <td>p182444</td>\n",
       "      <td>3465aaf82da834c0582ebd0ef8040ca0</td>\n",
       "      <td>Ms.</td>\n",
       "      <td>AZ</td>\n",
       "      <td>2016</td>\n",
       "      <td>8</td>\n",
       "      <td>31</td>\n",
       "      <td>Health_Sports</td>\n",
       "      <td>Health_Wellness TeamSports</td>\n",
       "      <td>Soccer Equipment for AWESOME Middle School Stu...</td>\n",
       "      <td>\\r\\n\\\"True champions aren't always the ones th...</td>\n",
       "      <td>The students on the campus come to school know...</td>\n",
       "      <td>NaN</td>\n",
       "      <td>NaN</td>\n",
       "      <td>My students need shine guards, athletic socks,...</td>\n",
       "      <td>1</td>\n",
       "      <td>0</td>\n",
       "      <td>Grades_6-8</td>\n",
       "    </tr>\n",
       "    <tr>\n",
       "      <th>3</th>\n",
       "      <td>45</td>\n",
       "      <td>p246581</td>\n",
       "      <td>f3cb9bffbba169bef1a77b243e620b60</td>\n",
       "      <td>Mrs.</td>\n",
       "      <td>KY</td>\n",
       "      <td>2016</td>\n",
       "      <td>10</td>\n",
       "      <td>6</td>\n",
       "      <td>Literacy_Language Math_Science</td>\n",
       "      <td>Literacy Mathematics</td>\n",
       "      <td>Techie Kindergarteners</td>\n",
       "      <td>I work at a unique school filled with both ESL...</td>\n",
       "      <td>My students live in high poverty conditions wi...</td>\n",
       "      <td>NaN</td>\n",
       "      <td>NaN</td>\n",
       "      <td>My students need to engage in Reading and Math...</td>\n",
       "      <td>4</td>\n",
       "      <td>1</td>\n",
       "      <td>Grades_PreK-2</td>\n",
       "    </tr>\n",
       "    <tr>\n",
       "      <th>4</th>\n",
       "      <td>172407</td>\n",
       "      <td>p104768</td>\n",
       "      <td>be1f7507a41f8479dc06f047086a39ec</td>\n",
       "      <td>Mrs.</td>\n",
       "      <td>TX</td>\n",
       "      <td>2016</td>\n",
       "      <td>7</td>\n",
       "      <td>11</td>\n",
       "      <td>Math_Science</td>\n",
       "      <td>Mathematics</td>\n",
       "      <td>Interactive Math Tools</td>\n",
       "      <td>Our second grade classroom next year will be m...</td>\n",
       "      <td>For many students, math is a subject that does...</td>\n",
       "      <td>NaN</td>\n",
       "      <td>NaN</td>\n",
       "      <td>My students need hands on practice in mathemat...</td>\n",
       "      <td>1</td>\n",
       "      <td>1</td>\n",
       "      <td>Grades_PreK-2</td>\n",
       "    </tr>\n",
       "  </tbody>\n",
       "</table>\n",
       "</div>"
      ],
      "text/plain": [
       "   Unnamed: 0       id                        teacher_id teacher_prefix  \\\n",
       "0      160221  p253737  c90749f5d961ff158d4b4d1e7dc665fc           Mrs.   \n",
       "1      140945  p258326  897464ce9ddc600bced1151f324dd63a            Mr.   \n",
       "2       21895  p182444  3465aaf82da834c0582ebd0ef8040ca0            Ms.   \n",
       "3          45  p246581  f3cb9bffbba169bef1a77b243e620b60           Mrs.   \n",
       "4      172407  p104768  be1f7507a41f8479dc06f047086a39ec           Mrs.   \n",
       "\n",
       "  school_state  year  month  day                  clean_catogory  \\\n",
       "0           IN  2016     12    5               Literacy_Language   \n",
       "1           FL  2016     10   25    History_Civics Health_Sports   \n",
       "2           AZ  2016      8   31                   Health_Sports   \n",
       "3           KY  2016     10    6  Literacy_Language Math_Science   \n",
       "4           TX  2016      7   11                    Math_Science   \n",
       "\n",
       "              clean_subcatogory  \\\n",
       "0                  ESL Literacy   \n",
       "1  Civics_Government TeamSports   \n",
       "2    Health_Wellness TeamSports   \n",
       "3          Literacy Mathematics   \n",
       "4                   Mathematics   \n",
       "\n",
       "                                       project_title  \\\n",
       "0   Educational Support for English Learners at Home   \n",
       "1              Wanted: Projector for Hungry Learners   \n",
       "2  Soccer Equipment for AWESOME Middle School Stu...   \n",
       "3                             Techie Kindergarteners   \n",
       "4                             Interactive Math Tools   \n",
       "\n",
       "                                     project_essay_1  \\\n",
       "0  My students are English learners that are work...   \n",
       "1  Our students arrive to our school eager to lea...   \n",
       "2  \\r\\n\\\"True champions aren't always the ones th...   \n",
       "3  I work at a unique school filled with both ESL...   \n",
       "4  Our second grade classroom next year will be m...   \n",
       "\n",
       "                                     project_essay_2 project_essay_3  \\\n",
       "0  \\\"The limits of your language are the limits o...             NaN   \n",
       "1  The projector we need for our school is very c...             NaN   \n",
       "2  The students on the campus come to school know...             NaN   \n",
       "3  My students live in high poverty conditions wi...             NaN   \n",
       "4  For many students, math is a subject that does...             NaN   \n",
       "\n",
       "  project_essay_4                           project_resource_summary  \\\n",
       "0             NaN  My students need opportunities to practice beg...   \n",
       "1             NaN  My students need a projector to help with view...   \n",
       "2             NaN  My students need shine guards, athletic socks,...   \n",
       "3             NaN  My students need to engage in Reading and Math...   \n",
       "4             NaN  My students need hands on practice in mathemat...   \n",
       "\n",
       "   teacher_number_of_previously_posted_projects  project_is_approved  \\\n",
       "0                                             0                    0   \n",
       "1                                             7                    1   \n",
       "2                                             1                    0   \n",
       "3                                             4                    1   \n",
       "4                                             1                    1   \n",
       "\n",
       "  project_grade_category  \n",
       "0          Grades_PreK-2  \n",
       "1             Grades_6-8  \n",
       "2             Grades_6-8  \n",
       "3          Grades_PreK-2  \n",
       "4          Grades_PreK-2  "
      ]
     },
     "execution_count": 9,
     "metadata": {},
     "output_type": "execute_result"
    }
   ],
   "source": [
    "project_data.head(5)"
   ]
  },
  {
   "cell_type": "markdown",
   "metadata": {},
   "source": [
    "# Clean:  Essays, project_title and  project_resource_summary (text columns)"
   ]
  },
  {
   "cell_type": "code",
   "execution_count": 10,
   "metadata": {},
   "outputs": [],
   "source": [
    "#how do I insert a column at a specific column index in pandas?:https://stackoverflow.com/questions/18674064/how-do-i-insert-a-column-at-a-specific-column-index-in-pandas\n",
    "\n",
    "# merging the essay columns \n",
    "#insert method does not insert column if it already exists\n",
    "#project_data.drop('essay', axis=1,inplace = True)\n",
    "\n",
    "essay = project_data[\"project_essay_1\"].map(str) +\\\n",
    "                        project_data[\"project_essay_2\"].map(str) + \\\n",
    "                        project_data[\"project_essay_3\"].map(str) + \\\n",
    "                        project_data[\"project_essay_4\"].map(str)\n",
    "\n",
    "project_data.insert(loc=14,column='essay', value=essay)\n",
    "\n",
    "\n",
    "project_data.drop('project_essay_1', axis=1,inplace = True)\n",
    "project_data.drop('project_essay_2', axis=1,inplace = True)\n",
    "project_data.drop('project_essay_3', axis=1,inplace = True)\n",
    "project_data.drop('project_essay_4', axis=1,inplace = True)\n"
   ]
  },
  {
   "cell_type": "code",
   "execution_count": 11,
   "metadata": {},
   "outputs": [
    {
     "data": {
      "text/plain": [
       "Index(['Unnamed: 0', 'id', 'teacher_id', 'teacher_prefix', 'school_state',\n",
       "       'year', 'month', 'day', 'clean_catogory', 'clean_subcatogory',\n",
       "       'project_title', 'essay', 'project_resource_summary',\n",
       "       'teacher_number_of_previously_posted_projects', 'project_is_approved',\n",
       "       'project_grade_category'],\n",
       "      dtype='object')"
      ]
     },
     "execution_count": 11,
     "metadata": {},
     "output_type": "execute_result"
    }
   ],
   "source": [
    "project_data.columns"
   ]
  },
  {
   "cell_type": "code",
   "execution_count": 12,
   "metadata": {},
   "outputs": [],
   "source": [
    "\n",
    "stop_words = ['i', 'me', 'my', 'myself', 'we', 'our', 'ours', 'ourselves', 'you', \"you're\", \"you've\", \"you'll\", \n",
    "              \"you'd\", 'your', 'yours', 'yourself', 'yourselves', 'he', 'him', 'his', 'himself', 'she', \"she's\",\n",
    "              'her', 'hers', 'herself', 'it', \"it's\", 'its', 'itself', 'they', 'them', 'their', 'theirs', 'themselves',\n",
    "              'what', 'which', 'who', 'whom', 'this', 'that', \"that'll\", 'these', 'those', 'am', 'is', 'are', 'was',\n",
    "              'were', 'be', 'been', 'being', 'have', 'has', 'had', 'having', 'do', 'does', 'did', 'doing', 'a', 'an', 'the',\n",
    "               'if', 'or', 'because', 'as', 'until', 'while', 'of', 'at', 'by', 'for', 'with', 'about', \n",
    "              'between', 'into', 'through', 'during', 'above', 'below', 'to', 'from', \n",
    "               'in', 'out', 'on', 'off', 'over', 'under',  'further', 'then', 'once', 'here', \n",
    "              'there', 'when', 'where', 'why', 'how', 'all', 'any', 'both', 'each',  'other',\n",
    "               'than' , 's', 't', 'can', 'will',   'now', 'd', 'll', 'm', 'o', 're', 've', 'y', 'ain', 'ma']\n",
    "\n",
    "\n",
    "symbollist='\"!@#$%^&*()+~[]{}' \n",
    "symboldict=dict.fromkeys(symbollist,\"\")\n",
    "t=str.maketrans(symboldict) \n",
    "\n",
    "def clean(phrase):\n",
    "    phrase = re.sub(r\"won't\", \"will not\", phrase)\n",
    "    phrase = re.sub(r\"can\\'t\", \"can not\", phrase)\n",
    "    phrase = re.sub(r\"n\\'t\", \" not\", phrase)\n",
    "    phrase = re.sub(r\"\\'re\", \" are\", phrase)\n",
    "    phrase = re.sub(r\"\\'s\", \" is\", phrase)\n",
    "    phrase = re.sub(r\"\\'d\", \" would\", phrase)\n",
    "    phrase = re.sub(r\"\\'ll\", \" will\", phrase)\n",
    "    phrase = re.sub(r\"\\'t\", \" not\", phrase)\n",
    "    phrase = re.sub(r\"\\'ve\", \" have\", phrase)\n",
    "    phrase = re.sub(r\"\\'m\", \" am\", phrase)\n",
    "    phrase=phrase.replace(\"-\", \" \")\n",
    "    phrase = re.sub('((http|https)\\s*\\:\\s*\\/\\/)?[a-zA-Z0-9\\.\\/\\?\\:@\\-_=#]+\\.([a-zA-Z]){2,6}([a-zA-Z0-9\\.\\&\\/\\?\\:@\\-_=#])*', '', phrase)\n",
    "    tag_clean = re.compile('<.*?>')\n",
    "    phrase= re.sub(tag_clean, ' ', phrase)\n",
    "    lowercase=[word.lower() for word in nltk.word_tokenize(phrase.translate(t)) if word.lower() not in stop_words and (word.isalpha() or word.isnumeric())]\n",
    "    return lowercase\n"
   ]
  },
  {
   "cell_type": "code",
   "execution_count": 13,
   "metadata": {},
   "outputs": [
    {
     "name": "stderr",
     "output_type": "stream",
     "text": [
      "100%|████████████████████████████████████████████████████████████████████████| 109248/109248 [00:36<00:00, 2979.93it/s]\n",
      "100%|██████████████████████████████████████████████████████████████████████| 109248/109248 [00:00<00:00, 346563.76it/s]\n",
      "100%|█████████████████████████████████████████████████████████████████████████| 109248/109248 [11:39<00:00, 156.28it/s]\n",
      "100%|███████████████████████████████████████████████████████████████████████| 109248/109248 [00:07<00:00, 15097.46it/s]\n",
      "100%|████████████████████████████████████████████████████████████████████████| 109248/109248 [01:05<00:00, 1678.41it/s]\n",
      "100%|██████████████████████████████████████████████████████████████████████| 109248/109248 [00:00<00:00, 182272.62it/s]\n"
     ]
    }
   ],
   "source": [
    "def clean_text_columns(column):\n",
    "    corpus_clean = [clean(i) for i in tqdm(project_data[column])]\n",
    "    list_clean_phrase = []\n",
    "\n",
    "    for clean_review in tqdm(corpus_clean):\n",
    "        list_clean_phrase.append(' '.join(word for word in clean_review))\n",
    "\n",
    "    project_data[column] = list_clean_phrase\n",
    "    return corpus_clean\n",
    "\n",
    "corpus_clean_dict = {}\n",
    "\n",
    "for column in ['project_title', 'essay', 'project_resource_summary']:\n",
    "    corpus_clean_dict[column] = clean_text_columns(column)\n"
   ]
  },
  {
   "cell_type": "code",
   "execution_count": 14,
   "metadata": {},
   "outputs": [
    {
     "data": {
      "text/plain": [
       "'soccer equipment awesome middle school students'"
      ]
     },
     "execution_count": 14,
     "metadata": {},
     "output_type": "execute_result"
    }
   ],
   "source": [
    "project_data['project_title'].values[2]"
   ]
  },
  {
   "cell_type": "code",
   "execution_count": 15,
   "metadata": {},
   "outputs": [
    {
     "data": {
      "text/plain": [
       "'students need shine guards athletic socks soccer balls goalie gloves and training materials upcoming soccer season'"
      ]
     },
     "execution_count": 15,
     "metadata": {},
     "output_type": "execute_result"
    }
   ],
   "source": [
    "project_data['project_resource_summary'].values[2]"
   ]
  },
  {
   "cell_type": "code",
   "execution_count": 16,
   "metadata": {},
   "outputs": [
    {
     "data": {
      "text/plain": [
       "'kindergarten students varied disabilities ranging speech and language delays cognitive delays motor delays autism eager beavers and always strive work hardest working past limitations materials ones seek students teach title school most students receive free reduced price lunch despite disabilities and limitations students love coming school and come eager learn and ever felt like ants pants and needed groove and move meeting kids feel time want able move learn so chairs answer and love develop core enhances gross motor and turn fine motor skills also want learn games kids not want sit and worksheets want learn count jumping and playing physical engagement key success number toss and color and shape mats make happen students forget work and just fun 6 year old'"
      ]
     },
     "execution_count": 16,
     "metadata": {},
     "output_type": "execute_result"
    }
   ],
   "source": [
    "project_data['essay'].values[20000]"
   ]
  },
  {
   "cell_type": "code",
   "execution_count": 17,
   "metadata": {},
   "outputs": [
    {
     "name": "stdout",
     "output_type": "stream",
     "text": [
      "<class 'pandas.core.frame.DataFrame'>\n",
      "RangeIndex: 109248 entries, 0 to 109247\n",
      "Data columns (total 16 columns):\n",
      " #   Column                                        Non-Null Count   Dtype \n",
      "---  ------                                        --------------   ----- \n",
      " 0   Unnamed: 0                                    109248 non-null  int64 \n",
      " 1   id                                            109248 non-null  object\n",
      " 2   teacher_id                                    109248 non-null  object\n",
      " 3   teacher_prefix                                109245 non-null  object\n",
      " 4   school_state                                  109248 non-null  object\n",
      " 5   year                                          109248 non-null  int64 \n",
      " 6   month                                         109248 non-null  int64 \n",
      " 7   day                                           109248 non-null  int64 \n",
      " 8   clean_catogory                                109248 non-null  object\n",
      " 9   clean_subcatogory                             109248 non-null  object\n",
      " 10  project_title                                 109248 non-null  object\n",
      " 11  essay                                         109248 non-null  object\n",
      " 12  project_resource_summary                      109248 non-null  object\n",
      " 13  teacher_number_of_previously_posted_projects  109248 non-null  int64 \n",
      " 14  project_is_approved                           109248 non-null  int64 \n",
      " 15  project_grade_category                        109248 non-null  object\n",
      "dtypes: int64(6), object(10)\n",
      "memory usage: 13.3+ MB\n"
     ]
    }
   ],
   "source": [
    "project_data.info()"
   ]
  },
  {
   "cell_type": "code",
   "execution_count": 18,
   "metadata": {},
   "outputs": [
    {
     "data": {
      "text/html": [
       "<div>\n",
       "<style scoped>\n",
       "    .dataframe tbody tr th:only-of-type {\n",
       "        vertical-align: middle;\n",
       "    }\n",
       "\n",
       "    .dataframe tbody tr th {\n",
       "        vertical-align: top;\n",
       "    }\n",
       "\n",
       "    .dataframe thead th {\n",
       "        text-align: right;\n",
       "    }\n",
       "</style>\n",
       "<table border=\"1\" class=\"dataframe\">\n",
       "  <thead>\n",
       "    <tr style=\"text-align: right;\">\n",
       "      <th></th>\n",
       "      <th>Unnamed: 0</th>\n",
       "      <th>id</th>\n",
       "      <th>teacher_id</th>\n",
       "      <th>teacher_prefix</th>\n",
       "      <th>school_state</th>\n",
       "      <th>year</th>\n",
       "      <th>month</th>\n",
       "      <th>day</th>\n",
       "      <th>clean_catogory</th>\n",
       "      <th>clean_subcatogory</th>\n",
       "      <th>project_title</th>\n",
       "      <th>essay</th>\n",
       "      <th>project_resource_summary</th>\n",
       "      <th>teacher_number_of_previously_posted_projects</th>\n",
       "      <th>project_is_approved</th>\n",
       "      <th>project_grade_category</th>\n",
       "      <th>price</th>\n",
       "      <th>quantity</th>\n",
       "    </tr>\n",
       "  </thead>\n",
       "  <tbody>\n",
       "    <tr>\n",
       "      <th>0</th>\n",
       "      <td>160221</td>\n",
       "      <td>p253737</td>\n",
       "      <td>c90749f5d961ff158d4b4d1e7dc665fc</td>\n",
       "      <td>Mrs.</td>\n",
       "      <td>IN</td>\n",
       "      <td>2016</td>\n",
       "      <td>12</td>\n",
       "      <td>5</td>\n",
       "      <td>Literacy_Language</td>\n",
       "      <td>ESL Literacy</td>\n",
       "      <td>educational support english learners home</td>\n",
       "      <td>students english learners working english seco...</td>\n",
       "      <td>students need opportunities practice beginning...</td>\n",
       "      <td>0</td>\n",
       "      <td>0</td>\n",
       "      <td>Grades_PreK-2</td>\n",
       "      <td>154.60000</td>\n",
       "      <td>23</td>\n",
       "    </tr>\n",
       "    <tr>\n",
       "      <th>1</th>\n",
       "      <td>140945</td>\n",
       "      <td>p258326</td>\n",
       "      <td>897464ce9ddc600bced1151f324dd63a</td>\n",
       "      <td>Mr.</td>\n",
       "      <td>FL</td>\n",
       "      <td>2016</td>\n",
       "      <td>10</td>\n",
       "      <td>25</td>\n",
       "      <td>History_Civics Health_Sports</td>\n",
       "      <td>Civics_Government TeamSports</td>\n",
       "      <td>wanted projector hungry learners</td>\n",
       "      <td>students arrive school eager learn polite gene...</td>\n",
       "      <td>students need projector help viewing education...</td>\n",
       "      <td>7</td>\n",
       "      <td>1</td>\n",
       "      <td>Grades_6-8</td>\n",
       "      <td>299.00000</td>\n",
       "      <td>1</td>\n",
       "    </tr>\n",
       "  </tbody>\n",
       "</table>\n",
       "</div>"
      ],
      "text/plain": [
       "   Unnamed: 0       id                        teacher_id teacher_prefix  \\\n",
       "0      160221  p253737  c90749f5d961ff158d4b4d1e7dc665fc           Mrs.   \n",
       "1      140945  p258326  897464ce9ddc600bced1151f324dd63a            Mr.   \n",
       "\n",
       "  school_state  year  month  day                clean_catogory  \\\n",
       "0           IN  2016     12    5             Literacy_Language   \n",
       "1           FL  2016     10   25  History_Civics Health_Sports   \n",
       "\n",
       "              clean_subcatogory                              project_title  \\\n",
       "0                  ESL Literacy  educational support english learners home   \n",
       "1  Civics_Government TeamSports           wanted projector hungry learners   \n",
       "\n",
       "                                               essay  \\\n",
       "0  students english learners working english seco...   \n",
       "1  students arrive school eager learn polite gene...   \n",
       "\n",
       "                            project_resource_summary  \\\n",
       "0  students need opportunities practice beginning...   \n",
       "1  students need projector help viewing education...   \n",
       "\n",
       "   teacher_number_of_previously_posted_projects  project_is_approved  \\\n",
       "0                                             0                    0   \n",
       "1                                             7                    1   \n",
       "\n",
       "  project_grade_category     price  quantity  \n",
       "0          Grades_PreK-2 154.60000        23  \n",
       "1             Grades_6-8 299.00000         1  "
      ]
     },
     "execution_count": 18,
     "metadata": {},
     "output_type": "execute_result"
    }
   ],
   "source": [
    "# merge the data:\n",
    "\n",
    "# https://stackoverflow.com/questions/22407798/how-to-reset-a-dataframes-indexes-for-all-groups-in-one-step\n",
    "price_data = resource_data.groupby('id').agg({'price':'sum', 'quantity':'sum'}).reset_index()\n",
    "\n",
    "# join two dataframes in python: \n",
    "df = pd.merge(project_data, price_data, on='id', how='left')\n",
    "df.head(2)"
   ]
  },
  {
   "cell_type": "markdown",
   "metadata": {},
   "source": [
    "# Train Test Split"
   ]
  },
  {
   "cell_type": "code",
   "execution_count": 19,
   "metadata": {},
   "outputs": [],
   "source": [
    "#below code is to balanced our dataset\n",
    "not_approved = df.loc[df['project_is_approved'] == 0]\n",
    "approved = df.loc[df['project_is_approved'] == 1]\n",
    "sample_positive = approved.take(np.random.permutation(len(approved))[:17000])\n",
    "df = pd.concat([not_approved , sample_positive]).sort_index(kind='merge')"
   ]
  },
  {
   "cell_type": "code",
   "execution_count": 20,
   "metadata": {},
   "outputs": [],
   "source": [
    "y = df['project_is_approved'].values# returns the array\n",
    "df.drop(['project_is_approved'], axis=1, inplace=True)\n",
    "X = df# X is a dataframe"
   ]
  },
  {
   "cell_type": "code",
   "execution_count": 21,
   "metadata": {},
   "outputs": [],
   "source": [
    "from sklearn.model_selection import train_test_split\n",
    "X_train,X_test,Y_train,Y_test=train_test_split(X,y,test_size=0.30, random_state=123)"
   ]
  },
  {
   "cell_type": "code",
   "execution_count": 22,
   "metadata": {},
   "outputs": [
    {
     "name": "stdout",
     "output_type": "stream",
     "text": [
      "(23479, 17)\n",
      "(23479,)\n",
      "(10063, 17)\n",
      "(10063,)\n"
     ]
    }
   ],
   "source": [
    "print(X_train.shape)\n",
    "print(Y_train.shape)\n",
    "print(X_test.shape)\n",
    "print(Y_test.shape)"
   ]
  },
  {
   "cell_type": "markdown",
   "metadata": {},
   "source": [
    "# Vectorization"
   ]
  },
  {
   "cell_type": "code",
   "execution_count": 23,
   "metadata": {},
   "outputs": [
    {
     "name": "stdout",
     "output_type": "stream",
     "text": [
      "['Warmth', 'Care_Hunger', 'History_Civics', 'Music_TheArts', 'AppliedLearning', 'SpecialNeeds', 'Health_Sports', 'Math_Science', 'Literacy_Language']\n",
      "Shape of matrix for X_train after one hot encodig  (23479, 9)\n",
      "Shape of matrix for X_test after one hot encodig  (10063, 9)\n"
     ]
    }
   ],
   "source": [
    "#vectorize clean_category\n",
    "\n",
    "# count of all the words in corpus python: https://stackoverflow.com/a/22898595/4084039\n",
    "my_counter = Counter()\n",
    "for word in X_train['clean_catogory'].values:\n",
    "    my_counter.update(word.split())\n",
    "    \n",
    "cat_dict = dict(my_counter)\n",
    "sorted_cat_dict = dict(sorted(cat_dict.items(), key=lambda kv: kv[1]))\n",
    "\n",
    "from sklearn.feature_extraction.text import CountVectorizer\n",
    "\n",
    "vectorizer = CountVectorizer(vocabulary=list(sorted_cat_dict.keys()), lowercase=False, binary=True)\n",
    "\n",
    "X_train_categories_one_hot = vectorizer.fit_transform(X_train['clean_catogory'].values)\n",
    "#X_cv_categories_one_hot = vectorizer.transform(X_cv['clean_catogory'].values)\n",
    "X_test_categories_one_hot = vectorizer.transform(X_test['clean_catogory'].values)\n",
    "                     \n",
    "print(vectorizer.get_feature_names())\n",
    "print(\"Shape of matrix for X_train after one hot encodig \",X_train_categories_one_hot.shape)\n",
    "#print(\"Shape of matrix for X_cv after one hot encodig \",X_cv_categories_one_hot.shape)\n",
    "print(\"Shape of matrix for X_test after one hot encodig \",X_test_categories_one_hot.shape)\n",
    "\n"
   ]
  },
  {
   "cell_type": "code",
   "execution_count": 24,
   "metadata": {},
   "outputs": [
    {
     "name": "stdout",
     "output_type": "stream",
     "text": [
      "Shape of matrix for X_train after one hot encodig  (23479, 30)\n",
      "Shape of matrix for X_test after one hot encodig  (10063, 30)\n"
     ]
    }
   ],
   "source": [
    "#vectorize clean_sub_catogory\n",
    "\n",
    "# count of all the words in corpus python: https://stackoverflow.com/a/22898595/4084039\n",
    "my_counter = Counter()\n",
    "for word in X_train['clean_subcatogory'].values:\n",
    "    my_counter.update(word.split())\n",
    "    \n",
    "sub_cat_dict = dict(my_counter)\n",
    "sorted_sub_cat_dict = dict(sorted(sub_cat_dict.items(), key=lambda kv: kv[1]))\n",
    "\n",
    "vectorizer = CountVectorizer(vocabulary=list(sorted_sub_cat_dict.keys()), lowercase=False, binary=True)\n",
    "\n",
    "X_train_sub_categories_one_hot = vectorizer.fit_transform(X_train['clean_subcatogory'].values)\n",
    "#X_cv_sub_categories_one_hot = vectorizer.transform(X_cv['clean_subcatogory'].values)\n",
    "X_test_sub_categories_one_hot = vectorizer.transform(X_test['clean_subcatogory'].values)\n",
    "\n",
    "\n",
    "print(\"Shape of matrix for X_train after one hot encodig \",X_train_sub_categories_one_hot.shape)\n",
    "#print(\"Shape of matrix for X_cv after one hot encodig \",X_cv_sub_categories_one_hot.shape)\n",
    "print(\"Shape of matrix for X_test after one hot encodig \",X_test_sub_categories_one_hot.shape)"
   ]
  },
  {
   "cell_type": "code",
   "execution_count": 25,
   "metadata": {},
   "outputs": [],
   "source": [
    "#teacher_prefix_list = list(project_data['teacher_prefix'].values)\n",
    "\n",
    "#teacher_prefix_processed_list=[x.replace(\".\",\"\") for x in teacher_prefix_list]\n",
    "\n",
    "# removing NAN values from 'teacher_prefix'\n",
    "X_train['teacher_prefix']=X_train['teacher_prefix'].fillna(\"\")\n",
    "#X_cv['teacher_prefix']=X_cv['teacher_prefix'].fillna(\"\")\n",
    "X_test['teacher_prefix']=X_test['teacher_prefix'].fillna(\"\")"
   ]
  },
  {
   "cell_type": "code",
   "execution_count": 26,
   "metadata": {},
   "outputs": [
    {
     "name": "stdout",
     "output_type": "stream",
     "text": [
      "['Dr.', 'Teacher', 'Mr.', 'Ms.', 'Mrs.']\n",
      "Shape of matrix for X_train after one hot encodig  (23479, 5)\n",
      "Shape of matrix for X_test after one hot encodig  (10063, 5)\n"
     ]
    }
   ],
   "source": [
    "#vectorize teacher_prefix\n",
    "\n",
    "# count of all the words in corpus python: https://stackoverflow.com/a/22898595/4084039\n",
    "my_counter = Counter()\n",
    "for word in X_train['teacher_prefix'].values:\n",
    "    my_counter.update(word.split())\n",
    "    \n",
    "teacher_prefix_dict = dict(my_counter)\n",
    "sorted_teacher_prefix_dict = dict(sorted(teacher_prefix_dict.items(), key=lambda kv: kv[1]))\n",
    "\n",
    "vectorizer = CountVectorizer(vocabulary=list(sorted_teacher_prefix_dict.keys()), lowercase=False, binary=True)\n",
    "\n",
    "X_train_teacher_prefix_one_hot = vectorizer.fit_transform(X_train['teacher_prefix'].values)\n",
    "#X_cv_teacher_prefix_one_hot = vectorizer.transform(X_cv['teacher_prefix'].values)\n",
    "X_test_teacher_prefix_one_hot = vectorizer.transform(X_test['teacher_prefix'].values)\n",
    "\n",
    "print(vectorizer.get_feature_names())\n",
    "print(\"Shape of matrix for X_train after one hot encodig \",X_train_teacher_prefix_one_hot.shape)\n",
    "#print(\"Shape of matrix for X_cv after one hot encodig \",X_cv_teacher_prefix_one_hot.shape)\n",
    "print(\"Shape of matrix for X_test after one hot encodig \",X_test_teacher_prefix_one_hot.shape)\n"
   ]
  },
  {
   "cell_type": "code",
   "execution_count": 27,
   "metadata": {},
   "outputs": [
    {
     "name": "stdout",
     "output_type": "stream",
     "text": [
      "['Grades_9-12', 'Grades_6-8', 'Grades_3-5', 'Grades_PreK-2']\n",
      "Shape of matrix for X_train after one hot encodig  (23479, 4)\n",
      "Shape of matrix for X_test after one hot encodig  (10063, 4)\n"
     ]
    }
   ],
   "source": [
    "#vectorize project_grade_category\n",
    "\n",
    "# count of all the words in corpus python: https://stackoverflow.com/a/22898595/4084039\n",
    "my_counter = Counter()\n",
    "for word in X_train['project_grade_category'].values:\n",
    "    my_counter.update(word.split())\n",
    "    \n",
    "project_grade_category_dict = dict(my_counter)\n",
    "sorted_project_grade_category_dict = dict(sorted(project_grade_category_dict.items(), key=lambda kv: kv[1]))\n",
    "\n",
    "vectorizer = CountVectorizer(vocabulary=list(sorted_project_grade_category_dict.keys()), lowercase=False, binary=True)\n",
    "\n",
    "X_train_project_grade_category_one_hot = vectorizer.fit_transform(X_train['project_grade_category'].values)\n",
    "#X_cv_project_grade_category_one_hot = vectorizer.transform(X_cv['project_grade_category'].values)\n",
    "X_test_project_grade_category_one_hot = vectorizer.transform(X_test['project_grade_category'].values)\n",
    "\n",
    "print(vectorizer.get_feature_names())\n",
    "print(\"Shape of matrix for X_train after one hot encodig \",X_train_project_grade_category_one_hot.shape)\n",
    "#print(\"Shape of matrix for X_cv after one hot encodig \",X_cv_project_grade_category_one_hot.shape)\n",
    "print(\"Shape of matrix for X_test after one hot encodig \",X_test_project_grade_category_one_hot.shape)\n",
    "\n"
   ]
  },
  {
   "cell_type": "code",
   "execution_count": 28,
   "metadata": {},
   "outputs": [
    {
     "name": "stdout",
     "output_type": "stream",
     "text": [
      "['VT', 'WY', 'ND', 'DE', 'MT', 'RI', 'SD', 'NE', 'AK', 'NH', 'HI', 'NM', 'ME', 'WV', 'DC', 'IA', 'KS', 'ID', 'AR', 'CO', 'OR', 'KY', 'MN', 'MS', 'NV', 'MD', 'CT', 'AL', 'TN', 'WI', 'UT', 'VA', 'OH', 'WA', 'AZ', 'OK', 'MA', 'NJ', 'LA', 'MO', 'IN', 'PA', 'MI', 'SC', 'GA', 'IL', 'NC', 'FL', 'NY', 'TX', 'CA']\n",
      "Shape of matrix for X_train after one hot encodig  (23479, 51)\n",
      "Shape of matrix for X_test after one hot encodig  (10063, 51)\n"
     ]
    }
   ],
   "source": [
    "#vectorize school_state\n",
    "\n",
    "# count of all the words in corpus python: https://stackoverflow.com/a/22898595/4084039\n",
    "my_counter = Counter()\n",
    "for word in X_train['school_state'].values:\n",
    "    my_counter.update(word.split())\n",
    "    \n",
    "school_state_dict = dict(my_counter)\n",
    "sorted_school_state_dict = dict(sorted(school_state_dict.items(), key=lambda kv: kv[1]))\n",
    "\n",
    "vectorizer = CountVectorizer(vocabulary=list(sorted_school_state_dict.keys()), lowercase=False, binary=True)\n",
    "\n",
    "X_train_school_state_one_hot = vectorizer.fit_transform(X_train['school_state'].values)\n",
    "#X_cv_school_state_one_hot = vectorizer.transform(X_cv['school_state'].values)\n",
    "X_test_school_state_one_hot = vectorizer.transform(X_test['school_state'].values)\n",
    "\n",
    "\n",
    "\n",
    "print(vectorizer.get_feature_names())\n",
    "print(\"Shape of matrix for X_train after one hot encodig \",X_train_school_state_one_hot.shape)\n",
    "#print(\"Shape of matrix for X_cv after one hot encodig \",X_cv_school_state_one_hot.shape)\n",
    "print(\"Shape of matrix for X_test after one hot encodig \",X_test_school_state_one_hot.shape)\n",
    "\n"
   ]
  },
  {
   "cell_type": "code",
   "execution_count": 29,
   "metadata": {},
   "outputs": [
    {
     "name": "stdout",
     "output_type": "stream",
     "text": [
      "Mean : 325.00860769198005, Standard deviation : 389.6587892211485\n"
     ]
    }
   ],
   "source": [
    "#Vectorize price\n",
    "\n",
    "from sklearn.preprocessing import StandardScaler\n",
    "# price_standardized = standardScalar.fit(project_data['price'].values)\n",
    "# this will rise the error\n",
    "# ValueError: Expected 2D array, got 1D array instead: array=[725.05 213.03 329.   ... 399.   287.73   5.5 ].\n",
    "# Reshape your data either using array.reshape(-1, 1)\n",
    "\n",
    "stand_scalar = StandardScaler()\n",
    "stand_scalar.fit(X_train['price'].values.reshape(-1,1)) # finding the mean and standard deviation of this data\n",
    "print(f\"Mean : {stand_scalar.mean_[0]}, Standard deviation : {np.sqrt(stand_scalar.var_[0])}\")\n",
    "\n",
    "# Now standardize the data with above maen and variance.\n",
    "X_train_price_standardized = stand_scalar.transform(X_train['price'].values.reshape(-1, 1))\n",
    "#X_cv_price_standardized = stand_scalar.transform(X_cv['price'].values.reshape(-1, 1))\n",
    "X_test_price_standardized = stand_scalar.transform(X_test['price'].values.reshape(-1, 1))\n",
    "\n"
   ]
  },
  {
   "cell_type": "code",
   "execution_count": 30,
   "metadata": {},
   "outputs": [
    {
     "name": "stdout",
     "output_type": "stream",
     "text": [
      "Mean : 9.725116061161037, Standard deviation : 25.096786877497777\n"
     ]
    }
   ],
   "source": [
    "#vectorize teacher_number_of_previously_posted_projects\n",
    "stand_scalar = StandardScaler()\n",
    "stand_scalar.fit(X_train['teacher_number_of_previously_posted_projects'].values.reshape(-1,1)) # finding the mean and standard deviation of this data\n",
    "print(f\"Mean : {stand_scalar.mean_[0]}, Standard deviation : {np.sqrt(stand_scalar.var_[0])}\")\n",
    "\n",
    "# Now standardize the data with above maen and variance.\n",
    "X_train_teacher_number_of_previously_posted_projects_standardized = stand_scalar.transform(X_train['teacher_number_of_previously_posted_projects'].values.reshape(-1, 1))\n",
    "#X_cv_teacher_number_of_previously_posted_projects_standardized = stand_scalar.transform(X_cv['teacher_number_of_previously_posted_projects'].values.reshape(-1, 1))\n",
    "X_test_teacher_number_of_previously_posted_projects_standardized = stand_scalar.transform(X_test['teacher_number_of_previously_posted_projects'].values.reshape(-1, 1))\n",
    "\n"
   ]
  },
  {
   "cell_type": "code",
   "execution_count": 31,
   "metadata": {},
   "outputs": [
    {
     "name": "stdout",
     "output_type": "stream",
     "text": [
      "Mean : 18.23765918480344, Standard deviation : 27.006426461534577\n"
     ]
    }
   ],
   "source": [
    "# vectorize quantity\n",
    "stand_scalar = StandardScaler()\n",
    "stand_scalar.fit(X_train['quantity'].values.reshape(-1,1)) # finding the mean and standard deviation of this data\n",
    "print(f\"Mean : {stand_scalar.mean_[0]}, Standard deviation : {np.sqrt(stand_scalar.var_[0])}\")\n",
    "\n",
    "# Now standardize the data with above maen and variance.\n",
    "X_train_quantity_standardized = stand_scalar.transform(X_train['quantity'].values.reshape(-1, 1))\n",
    "#X_cv_quantity_standardized = stand_scalar.transform(X_cv['quantity'].values.reshape(-1, 1))\n",
    "X_test_quantity_standardized = stand_scalar.transform(X_test['quantity'].values.reshape(-1, 1))\n",
    "\n",
    "#X_cv_quantity_standardized.shape"
   ]
  },
  {
   "cell_type": "code",
   "execution_count": 32,
   "metadata": {},
   "outputs": [],
   "source": [
    "#vectorize essay\n",
    "from sklearn.feature_extraction.text import TfidfVectorizer\n",
    "vectorizer = TfidfVectorizer(min_df=10)\n",
    "\n",
    "vectorizer.fit(X_train['essay'].values)\n",
    "\n",
    "X_train_essay_tfidf = vectorizer.transform(X_train['essay'].values)\n",
    "#X_cv_essay_bow = vectorizer.transform(X_cv['essay'].values)\n",
    "X_test_essay_tfidf = vectorizer.transform(X_test['essay'].values)"
   ]
  },
  {
   "cell_type": "code",
   "execution_count": 33,
   "metadata": {},
   "outputs": [],
   "source": [
    "#vectorize project_title\n",
    "\n",
    "vectorizer = TfidfVectorizer(min_df=10)\n",
    "vectorizer.fit(X_train['project_title'].values)\n",
    "\n",
    "X_train_project_title_tfidf = vectorizer.transform(X_train['project_title'].values)\n",
    "#X_cv_project_title_bow = vectorizer.transform(X_cv['project_title'].values)\n",
    "X_test_project_title_tfidf = vectorizer.transform(X_test['project_title'].values)\n",
    "\n"
   ]
  },
  {
   "cell_type": "code",
   "execution_count": 34,
   "metadata": {},
   "outputs": [],
   "source": [
    "#vectorize project_resource_summary\n",
    "\n",
    "vectorizer = TfidfVectorizer(min_df=10)\n",
    "vectorizer.fit(X_train['project_resource_summary'].values)\n",
    "\n",
    "X_train_project_resource_summary_tfidf = vectorizer.transform(X_train['project_resource_summary'].values)\n",
    "#X_cv_project_resource_summary_bow = vectorizer.transform(X_cv['project_resource_summary'].values)\n",
    "X_test_project_resource_summary_tfidf = vectorizer.transform(X_test['project_resource_summary'].values)\n"
   ]
  },
  {
   "cell_type": "code",
   "execution_count": 35,
   "metadata": {},
   "outputs": [
    {
     "data": {
      "text/plain": [
       "(23479, 8823)"
      ]
     },
     "execution_count": 35,
     "metadata": {},
     "output_type": "execute_result"
    }
   ],
   "source": [
    "X_train_essay_tfidf.shape"
   ]
  },
  {
   "cell_type": "code",
   "execution_count": 36,
   "metadata": {},
   "outputs": [
    {
     "data": {
      "text/plain": [
       "(23479, 1155)"
      ]
     },
     "execution_count": 36,
     "metadata": {},
     "output_type": "execute_result"
    }
   ],
   "source": [
    "X_train_project_title_tfidf .shape"
   ]
  },
  {
   "cell_type": "code",
   "execution_count": 37,
   "metadata": {},
   "outputs": [
    {
     "data": {
      "text/plain": [
       "(23479, 2524)"
      ]
     },
     "execution_count": 37,
     "metadata": {},
     "output_type": "execute_result"
    }
   ],
   "source": [
    "X_train_project_resource_summary_tfidf.shape"
   ]
  },
  {
   "cell_type": "markdown",
   "metadata": {},
   "source": [
    "# Merging"
   ]
  },
  {
   "cell_type": "code",
   "execution_count": 38,
   "metadata": {},
   "outputs": [],
   "source": [
    "from scipy.sparse import hstack\n",
    "\n",
    "X_train_processed = hstack((X_train_essay_tfidf , X_train_project_title_tfidf ,X_train_project_resource_summary_tfidf,\n",
    "                            X_train_categories_one_hot , X_train_sub_categories_one_hot ,X_train_teacher_prefix_one_hot,\n",
    "                           X_train_project_grade_category_one_hot,X_train_school_state_one_hot,\n",
    "                           X_train_price_standardized ,X_train_teacher_number_of_previously_posted_projects_standardized ,\n",
    "                           X_train_quantity_standardized)).tocsr()\n",
    "\n",
    "\n",
    "\n",
    "\n",
    "X_test_processed = hstack((X_test_essay_tfidf , X_test_project_title_tfidf ,X_test_project_resource_summary_tfidf,\n",
    "                           X_test_categories_one_hot , X_test_sub_categories_one_hot ,X_test_teacher_prefix_one_hot,\n",
    "                          X_test_project_grade_category_one_hot,X_test_school_state_one_hot,\n",
    "                           X_test_price_standardized ,X_test_teacher_number_of_previously_posted_projects_standardized ,\n",
    "                         X_test_quantity_standardized\n",
    "                           )).tocsr()"
   ]
  },
  {
   "cell_type": "code",
   "execution_count": 41,
   "metadata": {},
   "outputs": [
    {
     "data": {
      "text/plain": [
       "(10063, 12604)"
      ]
     },
     "execution_count": 41,
     "metadata": {},
     "output_type": "execute_result"
    }
   ],
   "source": [
    "X_test_processed.shape"
   ]
  },
  {
   "cell_type": "markdown",
   "metadata": {},
   "source": [
    "# Classification"
   ]
  },
  {
   "cell_type": "code",
   "execution_count": 42,
   "metadata": {},
   "outputs": [
    {
     "data": {
      "text/plain": [
       "RandomForestClassifier()"
      ]
     },
     "execution_count": 42,
     "metadata": {},
     "output_type": "execute_result"
    }
   ],
   "source": [
    "from sklearn.ensemble import RandomForestClassifier\n",
    "from sklearn.utils import class_weight\n",
    "\n",
    "classifier = RandomForestClassifier()\n",
    "classifier.fit(X_train_processed, Y_train)"
   ]
  },
  {
   "cell_type": "code",
   "execution_count": 43,
   "metadata": {},
   "outputs": [],
   "source": [
    "Y_pred = classifier.predict(X_test_processed)"
   ]
  },
  {
   "cell_type": "code",
   "execution_count": 44,
   "metadata": {},
   "outputs": [
    {
     "data": {
      "text/html": [
       "<div>\n",
       "<style scoped>\n",
       "    .dataframe tbody tr th:only-of-type {\n",
       "        vertical-align: middle;\n",
       "    }\n",
       "\n",
       "    .dataframe tbody tr th {\n",
       "        vertical-align: top;\n",
       "    }\n",
       "\n",
       "    .dataframe thead th {\n",
       "        text-align: right;\n",
       "    }\n",
       "</style>\n",
       "<table border=\"1\" class=\"dataframe\">\n",
       "  <thead>\n",
       "    <tr style=\"text-align: right;\">\n",
       "      <th></th>\n",
       "      <th>Actual</th>\n",
       "      <th>Predicted</th>\n",
       "    </tr>\n",
       "  </thead>\n",
       "  <tbody>\n",
       "    <tr>\n",
       "      <th>0</th>\n",
       "      <td>1</td>\n",
       "      <td>1</td>\n",
       "    </tr>\n",
       "    <tr>\n",
       "      <th>1</th>\n",
       "      <td>1</td>\n",
       "      <td>0</td>\n",
       "    </tr>\n",
       "    <tr>\n",
       "      <th>2</th>\n",
       "      <td>1</td>\n",
       "      <td>1</td>\n",
       "    </tr>\n",
       "    <tr>\n",
       "      <th>3</th>\n",
       "      <td>1</td>\n",
       "      <td>1</td>\n",
       "    </tr>\n",
       "    <tr>\n",
       "      <th>4</th>\n",
       "      <td>1</td>\n",
       "      <td>0</td>\n",
       "    </tr>\n",
       "  </tbody>\n",
       "</table>\n",
       "</div>"
      ],
      "text/plain": [
       "   Actual  Predicted\n",
       "0       1          1\n",
       "1       1          0\n",
       "2       1          1\n",
       "3       1          1\n",
       "4       1          0"
      ]
     },
     "execution_count": 44,
     "metadata": {},
     "output_type": "execute_result"
    }
   ],
   "source": [
    "data = pd.DataFrame({'Actual': Y_test, 'Predicted': Y_pred})\n",
    "data.head()"
   ]
  },
  {
   "cell_type": "code",
   "execution_count": 45,
   "metadata": {},
   "outputs": [
    {
     "data": {
      "text/plain": [
       "0.661830468051277"
      ]
     },
     "execution_count": 45,
     "metadata": {},
     "output_type": "execute_result"
    }
   ],
   "source": [
    "from sklearn.metrics import accuracy_score\n",
    "\n",
    "accuracy_score(Y_test, Y_pred)"
   ]
  },
  {
   "cell_type": "code",
   "execution_count": 46,
   "metadata": {},
   "outputs": [
    {
     "data": {
      "text/plain": [
       "0.6619107194266657"
      ]
     },
     "execution_count": 46,
     "metadata": {},
     "output_type": "execute_result"
    }
   ],
   "source": [
    "test_fpr, test_tpr, te_thresholds = roc_curve(Y_test, Y_pred)\n",
    "auc(test_fpr, test_tpr)\n"
   ]
  },
  {
   "cell_type": "code",
   "execution_count": 49,
   "metadata": {},
   "outputs": [
    {
     "data": {
      "text/plain": [
       "3403"
      ]
     },
     "execution_count": 49,
     "metadata": {},
     "output_type": "execute_result"
    }
   ],
   "source": [
    "a=np.where(data.Actual!=data.Predicted, data.index,None)\n",
    "a=list(a)\n",
    "a= filter(None, a)\n",
    "a=list(a)\n",
    "\n",
    "len(a)\n",
    "# total misclassified points"
   ]
  },
  {
   "cell_type": "code",
   "execution_count": 50,
   "metadata": {},
   "outputs": [
    {
     "data": {
      "image/png": "[encoded data removed]",
      "text/plain": [
       "<Figure size 432x288 with 2 Axes>"
      ]
     },
     "metadata": {},
     "output_type": "display_data"
    }
   ],
   "source": [
    "cm = pd.DataFrame(confusion_matrix(data['Actual'],data['Predicted']))\n",
    "\n",
    "sns.set(font_scale=1.4)#for label size\n",
    "sns.heatmap(cm, annot=True,annot_kws={\"size\": 16}, fmt='g')\n",
    "plt.show()\n",
    "# actual on y axis, predicted on x axis"
   ]
  },
  {
   "cell_type": "code",
   "execution_count": 55,
   "metadata": {},
   "outputs": [
    {
     "data": {
      "text/plain": [
       "LogisticRegression()"
      ]
     },
     "execution_count": 55,
     "metadata": {},
     "output_type": "execute_result"
    }
   ],
   "source": [
    "from sklearn.linear_model import LogisticRegression\n",
    "classifier = LogisticRegression()\n",
    "classifier.fit(X_train_processed, Y_train)"
   ]
  },
  {
   "cell_type": "code",
   "execution_count": 56,
   "metadata": {},
   "outputs": [],
   "source": [
    "Y_pred = classifier.predict(X_test_processed)"
   ]
  },
  {
   "cell_type": "code",
   "execution_count": 57,
   "metadata": {},
   "outputs": [
    {
     "data": {
      "text/html": [
       "<div>\n",
       "<style scoped>\n",
       "    .dataframe tbody tr th:only-of-type {\n",
       "        vertical-align: middle;\n",
       "    }\n",
       "\n",
       "    .dataframe tbody tr th {\n",
       "        vertical-align: top;\n",
       "    }\n",
       "\n",
       "    .dataframe thead th {\n",
       "        text-align: right;\n",
       "    }\n",
       "</style>\n",
       "<table border=\"1\" class=\"dataframe\">\n",
       "  <thead>\n",
       "    <tr style=\"text-align: right;\">\n",
       "      <th></th>\n",
       "      <th>Actual</th>\n",
       "      <th>Predicted</th>\n",
       "    </tr>\n",
       "  </thead>\n",
       "  <tbody>\n",
       "    <tr>\n",
       "      <th>0</th>\n",
       "      <td>1</td>\n",
       "      <td>1</td>\n",
       "    </tr>\n",
       "    <tr>\n",
       "      <th>1</th>\n",
       "      <td>1</td>\n",
       "      <td>0</td>\n",
       "    </tr>\n",
       "    <tr>\n",
       "      <th>2</th>\n",
       "      <td>1</td>\n",
       "      <td>0</td>\n",
       "    </tr>\n",
       "    <tr>\n",
       "      <th>3</th>\n",
       "      <td>1</td>\n",
       "      <td>1</td>\n",
       "    </tr>\n",
       "    <tr>\n",
       "      <th>4</th>\n",
       "      <td>1</td>\n",
       "      <td>0</td>\n",
       "    </tr>\n",
       "  </tbody>\n",
       "</table>\n",
       "</div>"
      ],
      "text/plain": [
       "   Actual  Predicted\n",
       "0       1          1\n",
       "1       1          0\n",
       "2       1          0\n",
       "3       1          1\n",
       "4       1          0"
      ]
     },
     "execution_count": 57,
     "metadata": {},
     "output_type": "execute_result"
    }
   ],
   "source": [
    "data = pd.DataFrame({'Actual': Y_test, 'Predicted': Y_pred})\n",
    "data.head()\n"
   ]
  },
  {
   "cell_type": "code",
   "execution_count": 58,
   "metadata": {},
   "outputs": [
    {
     "data": {
      "text/plain": [
       "0.6590479976150253"
      ]
     },
     "execution_count": 58,
     "metadata": {},
     "output_type": "execute_result"
    }
   ],
   "source": [
    "accuracy_score(Y_test, Y_pred)"
   ]
  },
  {
   "cell_type": "code",
   "execution_count": 59,
   "metadata": {},
   "outputs": [
    {
     "data": {
      "text/plain": [
       "0.6590023178411354"
      ]
     },
     "execution_count": 59,
     "metadata": {},
     "output_type": "execute_result"
    }
   ],
   "source": [
    "test_fpr, test_tpr, te_thresholds = roc_curve(Y_test, Y_pred)\n",
    "auc(test_fpr, test_tpr)"
   ]
  },
  {
   "cell_type": "code",
   "execution_count": 1,
   "metadata": {},
   "outputs": [],
   "source": [
    "# We can still improve the the auc score."
   ]
  }
 ],
 "metadata": {
  "kernelspec": {
   "display_name": "Python 3",
   "language": "python",
   "name": "python3"
  },
  "language_info": {
   "codemirror_mode": {
    "name": "ipython",
    "version": 3
   },
   "file_extension": ".py",
   "mimetype": "text/x-python",
   "name": "python",
   "nbconvert_exporter": "python",
   "pygments_lexer": "ipython3",
   "version": "3.8.5"
  }
 },
 "nbformat": 4,
 "nbformat_minor": 4
}
